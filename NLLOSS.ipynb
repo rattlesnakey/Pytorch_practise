{
 "cells": [
  {
   "cell_type": "markdown",
   "metadata": {},
   "source": [
    "* NLLLOSS返回的是target index对应的值的负数"
   ]
  },
  {
   "cell_type": "code",
   "execution_count": 1,
   "metadata": {},
   "outputs": [
    {
     "name": "stdout",
     "output_type": "stream",
     "text": [
      "tensor([[-0.1187,  0.2110,  0.7463]])\n",
      "tensor([1])\n",
      "tensor(-0.2110)\n",
      "tensor(-0.2110)\n"
     ]
    }
   ],
   "source": [
    "import torch\n",
    "import torch.nn as nn\n",
    "import torch.nn.functional as F\n",
    "\n",
    "torch.manual_seed(2019)\n",
    "\n",
    "output = torch.randn(1, 3)  # 网络输出\n",
    "target = torch.ones(1, dtype=torch.long).random_(3)  # 真实标签\n",
    "print(output)\n",
    "print(target)\n",
    "\n",
    "# 直接调用\n",
    "loss = F.nll_loss(output, target)\n",
    "print(loss)\n",
    "\n",
    "# 实例化类\n",
    "criterion = nn.NLLLoss()\n",
    "loss = criterion(output, target)\n",
    "print(loss)\n"
   ]
  },
  {
   "cell_type": "markdown",
   "metadata": {},
   "source": [
    "* 如果是多个数据的话，那就是每个数据有一个loss,这边reduction = None的话就是保存每个数据一个loss,如果是=mean的话就是把所有数据的Loss取平均"
   ]
  },
  {
   "cell_type": "code",
   "execution_count": 2,
   "metadata": {},
   "outputs": [
    {
     "name": "stdout",
     "output_type": "stream",
     "text": [
      "tensor([[-0.1187,  0.2110,  0.7463],\n",
      "        [-0.6136, -0.1186,  1.5565]])\n",
      "tensor([2, 0])\n",
      "tensor(-0.0664)\n",
      "tensor([-0.7463,  0.6136])\n"
     ]
    }
   ],
   "source": [
    "import torch\n",
    "import torch.nn as nn\n",
    "import torch.nn.functional as F\n",
    "\n",
    "torch.manual_seed(2019)\n",
    "\n",
    "output = torch.randn(2, 3)  # 网路输出\n",
    "target = torch.ones(2, dtype=torch.long).random_(3)  # 真实标签\n",
    "print(output)\n",
    "print(target)\n",
    "\n",
    "# 直接调用\n",
    "loss = F.nll_loss(output, target)\n",
    "print(loss)\n",
    "\n",
    "# 实例化类\n",
    "criterion = nn.NLLLoss(reduction='none')\n",
    "loss = criterion(output, target)\n",
    "print(loss)"
   ]
  },
  {
   "cell_type": "code",
   "execution_count": 3,
   "metadata": {},
   "outputs": [
    {
     "name": "stdout",
     "output_type": "stream",
     "text": [
      "tensor([[-0.1187,  0.2110,  0.7463],\n",
      "        [-0.6136, -0.1186,  1.5565]])\n",
      "tensor([2, 0])\n",
      "tensor(-0.0664)\n",
      "tensor(-0.0664)\n"
     ]
    }
   ],
   "source": [
    "import torch\n",
    "import torch.nn as nn\n",
    "import torch.nn.functional as F\n",
    "\n",
    "torch.manual_seed(2019)\n",
    "\n",
    "output = torch.randn(2, 3)  # 网路输出\n",
    "target = torch.ones(2, dtype=torch.long).random_(3)  # 真实标签\n",
    "print(output)\n",
    "print(target)\n",
    "\n",
    "# 直接调用\n",
    "loss = F.nll_loss(output, target)\n",
    "print(loss)\n",
    "\n",
    "# 实例化类\n",
    "criterion = nn.NLLLoss(reduction='mean')\n",
    "loss = criterion(output, target)\n",
    "print(loss)"
   ]
  },
  {
   "cell_type": "markdown",
   "metadata": {},
   "source": [
    "* F.nll_loss的话就是直接取平均的结果"
   ]
  },
  {
   "cell_type": "code",
   "execution_count": null,
   "metadata": {},
   "outputs": [],
   "source": []
  }
 ],
 "metadata": {
  "kernelspec": {
   "display_name": "Python [conda env:torch]",
   "language": "python",
   "name": "conda-env-torch-py"
  },
  "language_info": {
   "codemirror_mode": {
    "name": "ipython",
    "version": 3
   },
   "file_extension": ".py",
   "mimetype": "text/x-python",
   "name": "python",
   "nbconvert_exporter": "python",
   "pygments_lexer": "ipython3",
   "version": "3.7.9"
  }
 },
 "nbformat": 4,
 "nbformat_minor": 4
}
