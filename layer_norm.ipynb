{
 "cells": [
  {
   "cell_type": "code",
   "execution_count": 1,
   "metadata": {},
   "outputs": [],
   "source": [
    "import torch\n",
    "import torch.nn as nn"
   ]
  },
  {
   "cell_type": "code",
   "execution_count": 11,
   "metadata": {},
   "outputs": [],
   "source": [
    "class Norm(nn.Module):\n",
    "    def __init__(self, d_model, eps = 1e-6):\n",
    "        super().__init__()\n",
    "\n",
    "        self.size = d_model        \n",
    "        # create two learnable parameters to calibrate normalisation\n",
    "        self.alpha = nn.Parameter(torch.ones(self.size))\n",
    "        self.bias = nn.Parameter(torch.zeros(self.size))\n",
    "        self.eps = eps\n",
    "\n",
    "    def forward(self, x):\n",
    "        #这里dim = -1应该是几个词的那个维度上\n",
    "        print(\"每一个词向量一个mean:\",x.mean(dim=-1, keepdim=True).shape)\n",
    "        norm = self.alpha * (x - x.mean(dim=-1, keepdim=True)) \n",
    "        norma = norm / (x.std(dim=-1, keepdim=True) + self.eps) + self.bias\n",
    "        return norma\n"
   ]
  },
  {
   "cell_type": "code",
   "execution_count": 13,
   "metadata": {},
   "outputs": [
    {
     "name": "stdout",
     "output_type": "stream",
     "text": [
      "每一个词向量一个mean: torch.Size([5, 135, 1])\n",
      "Norm完以后数据维度不变: torch.Size([5, 135, 39])\n"
     ]
    }
   ],
   "source": [
    "x = torch.randn(5, 135, 39)\n",
    "model = Norm(39)\n",
    "y = model(x)\n",
    "print(\"Norm完以后数据维度不变:\",y.shape)"
   ]
  },
  {
   "cell_type": "markdown",
   "metadata": {},
   "source": [
    "* 之前说layer_norm是对一个数据的所有feature map上得出mean和variance, 这里就是有embedding_size层feature map,所以就是直接对每个词向量求平均\n",
    "* 从这里看来，其实感觉batch_norm和layer_norm差不多，输入都是feature_size"
   ]
  },
  {
   "cell_type": "code",
   "execution_count": null,
   "metadata": {},
   "outputs": [],
   "source": []
  }
 ],
 "metadata": {
  "kernelspec": {
   "display_name": "Python [conda env:torch]",
   "language": "python",
   "name": "conda-env-torch-py"
  },
  "language_info": {
   "codemirror_mode": {
    "name": "ipython",
    "version": 3
   },
   "file_extension": ".py",
   "mimetype": "text/x-python",
   "name": "python",
   "nbconvert_exporter": "python",
   "pygments_lexer": "ipython3",
   "version": "3.7.9"
  }
 },
 "nbformat": 4,
 "nbformat_minor": 4
}
