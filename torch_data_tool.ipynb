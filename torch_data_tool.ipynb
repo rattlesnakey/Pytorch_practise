{
 "cells": [
  {
   "cell_type": "markdown",
   "metadata": {},
   "source": [
    "#### torch.utils.data里面有很多数据预处理的包\n",
    "* Dataset是一个抽象类，其他的数据集要继承他，并且重写它里面的\\__getitem__(给定索引的情况下获取数据和标签)和\\__len__(提供数据集大小)方法\n",
    "* DataLoader batch来批量读取数据，且可以并行加速获取数据\n",
    "    * num_workers就是要用多少个进程并行加载数据\n",
    "    * collate_fn如何将多个样本组成一个batch\n",
    "    * pin_memory 是否将数据集加载到pin memory区，从pin_memory转到GPU上上面快一些\n",
    "    * drop_last 因为划分batch的时候一般最后一个batch都装不满，就看你要不要丢掉它\n",
    "    * DataLoader它不是迭代器，需要先iter一下再next才行\n",
    "* randomsplit 把数据集拆分成非重叠的给定长度的新数据集\n",
    "#### torchvision是视觉处理工具，独立于Pytorch的，它包括\n",
    "* datasets 官方提前封装好的数据集下载\n",
    "* models 图像处理方面各种典型的网络，如Resnet,Alexnet，Inception等，以及一些预训练模型\n",
    "* transforms 常用的数据预处理操作\n",
    "* utils(utility-实体的意思) 包含make_grid(将多张图片拼接在一个网格中)和save_imag，它能将Tensor保存成图片"
   ]
  },
  {
   "cell_type": "markdown",
   "metadata": {},
   "source": [
    "#### 重点讲一下transforms和datasets里面的ImageFolder"
   ]
  },
  {
   "cell_type": "markdown",
   "metadata": {},
   "source": [
    "#### Crop是裁剪的意思\n",
    "#### ImageFolder的参数是路径，路径下的每个文件名字都是标签，每个文件名下的内容都是对应于同样的标签的，所以可以直接用ImageFolder来构造dataset的\n",
    "#### tensorBoardX是可以可视化神经网络和其训练过程的只需要pip install 一下就可以了,comment参数是作为文件名的后缀的"
   ]
  },
  {
   "cell_type": "code",
   "execution_count": 2,
   "metadata": {},
   "outputs": [],
   "source": [
    "import torch\n",
    "import torch.nn as nn\n",
    "import torch.nn.functional as F\n",
    "import torchvision\n",
    "from tensorboardX import SummaryWriter"
   ]
  },
  {
   "cell_type": "code",
   "execution_count": 3,
   "metadata": {},
   "outputs": [],
   "source": [
    "class Net(nn.Module):\n",
    "    def __init__(self):\n",
    "        super(Net, self).__init__()\n",
    "        self.conv1 = nn.Conv2d(1, 10, kernel_size=5)\n",
    "        self.conv2 = nn.Conv2d(10, 20, kernel_size=5)\n",
    "        self.conv2_drop = nn.Dropout2d()\n",
    "        self.fc1 = nn.Linear(320, 50)\n",
    "        self.fc2 = nn.Linear(50, 10)\n",
    "        self.bn = nn.BatchNorm2d(20)\n",
    "\n",
    "    def forward(self, x):\n",
    "        x = F.max_pool2d(self.conv1(x), 2)\n",
    "        x = F.relu(x) + F.relu(-x)\n",
    "        x = F.relu(F.max_pool2d(self.conv2_drop(self.conv2(x)), 2))\n",
    "        x = self.bn(x)\n",
    "        x = x.view(-1, 320)\n",
    "        x = F.relu(self.fc1(x))\n",
    "        x = F.dropout(x, training=self.training)\n",
    "        x = self.fc2(x)\n",
    "        x = F.softmax(x, dim=1)\n",
    "        return x"
   ]
  },
  {
   "cell_type": "code",
   "execution_count": 8,
   "metadata": {},
   "outputs": [],
   "source": [
    "#定义输入\n",
    "input = torch.rand(32, 1, 28, 28)\n",
    "#实例化神经网络\n",
    "model = Net()\n",
    "#将model保存为graph\n",
    "with SummaryWriter(log_dir=r'D:\\juypter_files\\pytorch\\logs',comment='Net') as w:\n",
    "    w.add_graph(model, (input, ))\n"
   ]
  },
  {
   "cell_type": "markdown",
   "metadata": {},
   "source": [
    "* 切换到logs目录下面，然后运行这个就行:tensorboard --logdir=./"
   ]
  },
  {
   "cell_type": "code",
   "execution_count": null,
   "metadata": {},
   "outputs": [],
   "source": []
  }
 ],
 "metadata": {
  "kernelspec": {
   "display_name": "Python [conda env:torch]",
   "language": "python",
   "name": "conda-env-torch-py"
  },
  "language_info": {
   "codemirror_mode": {
    "name": "ipython",
    "version": 3
   },
   "file_extension": ".py",
   "mimetype": "text/x-python",
   "name": "python",
   "nbconvert_exporter": "python",
   "pygments_lexer": "ipython3",
   "version": "3.7.9"
  }
 },
 "nbformat": 4,
 "nbformat_minor": 4
}
