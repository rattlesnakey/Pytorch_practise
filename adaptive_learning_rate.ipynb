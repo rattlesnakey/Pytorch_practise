{
 "cells": [
  {
   "cell_type": "code",
   "execution_count": 11,
   "metadata": {},
   "outputs": [
    {
     "name": "stdout",
     "output_type": "stream",
     "text": [
      "初始化的学习率： 0.001\n",
      "第1个epoch的学习率：0.001000\n",
      "第2个epoch的学习率：0.000900\n",
      "第3个epoch的学习率：0.000800\n",
      "第4个epoch的学习率：0.000700\n",
      "第5个epoch的学习率：0.000600\n",
      "第6个epoch的学习率：0.000500\n",
      "第7个epoch的学习率：0.000400\n",
      "第8个epoch的学习率：0.000300\n",
      "第9个epoch的学习率：0.000200\n",
      "第10个epoch的学习率：0.000100\n"
     ]
    }
   ],
   "source": [
    "import torch\n",
    "import torch.nn as nn\n",
    "from torch.optim.lr_scheduler import LambdaLR\n",
    "\n",
    "initial_lr = 1e-3\n",
    "last_lr = 1e-4\n",
    "\n",
    "class model(nn.Module):\n",
    "    def __init__(self):\n",
    "        super().__init__()\n",
    "        self.conv1 = nn.Conv2d(in_channels=3, out_channels=3, kernel_size=3)\n",
    "\n",
    "    def forward(self, x):\n",
    "        pass\n",
    "\n",
    "net_1 = model()\n",
    "\n",
    "optimizer_1 = torch.optim.Adam(net_1.parameters(), lr = initial_lr)\n",
    "epochs = 10\n",
    "scheduler_1 = LambdaLR(optimizer_1, lr_lambda=lambda epoch: 1 - (((1e-3 - 1e-4)/epochs)*epoch)/(1e-3 - 1e-4))\n",
    "\n",
    "print(\"初始化的学习率：\", optimizer_1.defaults['lr'])\n",
    "\n",
    "for epoch in range(1, epochs+1):\n",
    "    # train\n",
    "    optimizer_1.zero_grad()\n",
    "    optimizer_1.step()\n",
    "    print(\"第%d个epoch的学习率：%f\" % (epoch, optimizer_1.param_groups[0]['lr']))\n",
    "    scheduler_1.step()"
   ]
  },
  {
   "cell_type": "code",
   "execution_count": 12,
   "metadata": {},
   "outputs": [],
   "source": [
    "x = torch.tensor([1,2,3])"
   ]
  },
  {
   "cell_type": "code",
   "execution_count": 13,
   "metadata": {},
   "outputs": [
    {
     "data": {
      "text/plain": [
       "tensor([1, 2, 3])"
      ]
     },
     "execution_count": 13,
     "metadata": {},
     "output_type": "execute_result"
    }
   ],
   "source": [
    "x"
   ]
  },
  {
   "cell_type": "code",
   "execution_count": 18,
   "metadata": {},
   "outputs": [
    {
     "data": {
      "text/plain": [
       "[1, 2, 3]"
      ]
     },
     "execution_count": 18,
     "metadata": {},
     "output_type": "execute_result"
    }
   ],
   "source": [
    "x.numpy().tolist()"
   ]
  },
  {
   "cell_type": "code",
   "execution_count": 2,
   "metadata": {},
   "outputs": [
    {
     "name": "stdout",
     "output_type": "stream",
     "text": [
      "初始化的学习率： 0.008\n",
      "第1个epoch的学习率：0.008000\n",
      "第2个epoch的学习率：0.004000\n",
      "第3个epoch的学习率：0.002667\n",
      "第4个epoch的学习率：0.002000\n",
      "第5个epoch的学习率：0.001600\n",
      "第6个epoch的学习率：0.001333\n",
      "第7个epoch的学习率：0.001143\n",
      "第8个epoch的学习率：0.001000\n",
      "第9个epoch的学习率：0.000889\n",
      "第10个epoch的学习率：0.000800\n"
     ]
    }
   ],
   "source": [
    "import torch\n",
    "import torch.nn as nn\n",
    "from torch.optim.lr_scheduler import LambdaLR\n",
    "\n",
    "initial_lr = 0.008\n",
    "\n",
    "class model(nn.Module):\n",
    "    def __init__(self):\n",
    "        super().__init__()\n",
    "        self.conv1 = nn.Conv2d(in_channels=3, out_channels=3, kernel_size=3)\n",
    "\n",
    "    def forward(self, x):\n",
    "        pass\n",
    "\n",
    "net_1 = model()\n",
    "\n",
    "optimizer_1 = torch.optim.Adam(net_1.parameters(), lr = initial_lr)\n",
    "epochs = 10\n",
    "scheduler_1 = LambdaLR(optimizer_1, lr_lambda=lambda epoch:1/(epoch+1))\n",
    "\n",
    "print(\"初始化的学习率：\", optimizer_1.defaults['lr'])\n",
    "\n",
    "for epoch in range(1, epochs+1):\n",
    "    # train\n",
    "    optimizer_1.zero_grad()\n",
    "    optimizer_1.step()\n",
    "    print(\"第%d个epoch的学习率：%f\" % (epoch, optimizer_1.param_groups[0]['lr']))\n",
    "    scheduler_1.step()"
   ]
  },
  {
   "cell_type": "code",
   "execution_count": null,
   "metadata": {},
   "outputs": [],
   "source": []
  }
 ],
 "metadata": {
  "kernelspec": {
   "display_name": "Python [conda env:torch]",
   "language": "python",
   "name": "conda-env-torch-py"
  },
  "language_info": {
   "codemirror_mode": {
    "name": "ipython",
    "version": 3
   },
   "file_extension": ".py",
   "mimetype": "text/x-python",
   "name": "python",
   "nbconvert_exporter": "python",
   "pygments_lexer": "ipython3",
   "version": "3.7.9"
  }
 },
 "nbformat": 4,
 "nbformat_minor": 4
}
