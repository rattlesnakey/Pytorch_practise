{
 "cells": [
  {
   "cell_type": "code",
   "execution_count": 1,
   "metadata": {},
   "outputs": [],
   "source": [
    "import torch\n",
    "import torch.nn as nn\n",
    "import torch.optim as optim"
   ]
  },
  {
   "cell_type": "code",
   "execution_count": 2,
   "metadata": {},
   "outputs": [],
   "source": [
    "class Net_1(nn.Module):\n",
    "    def __init__(self,feature_dim, hidden_dim, out_dim):\n",
    "        super(Net_1,self).__init__()\n",
    "        self.gru = nn.GRU(input_size = feature_dim, hidden_size = hidden_dim, num_layers = 2)\n",
    "        self.conv = nn.Conv1d(hidden_dim, out_dim, kernel_size = 3)\n",
    "    def forward(self,x):\n",
    "        o1, hidden = self.gru(x)# o1 - time, batch, hidden_dim\n",
    "        o2 = o1.permute(1,2,0)#o2 - batch, feature_dim, time\n",
    "        output = self.conv(o2)\n",
    "        o = output.max(dim = 2).values#时间维度上平均池化\n",
    "        return o"
   ]
  },
  {
   "cell_type": "code",
   "execution_count": 3,
   "metadata": {},
   "outputs": [
    {
     "data": {
      "text/plain": [
       "torch.Size([5, 42])"
      ]
     },
     "execution_count": 3,
     "metadata": {},
     "output_type": "execute_result"
    }
   ],
   "source": [
    "model = Net_1(39,128,42)\n",
    "x = torch.randn(135,5,39)#time, batch, feature_dim\n",
    "y = model(x)\n",
    "y.shape#(Batch,class_num) "
   ]
  },
  {
   "cell_type": "code",
   "execution_count": 4,
   "metadata": {},
   "outputs": [],
   "source": [
    "class Net_2(nn.Module):\n",
    "    def __init__(self,feature_dim, hidden_dim, out_dim):\n",
    "        super(Net_2,self).__init__()\n",
    "        self.conv = nn.Conv1d(feature_dim, hidden_dim, kernel_size = 3)\n",
    "        self.lstm = nn.LSTM(input_size = hidden_dim, hidden_size = out_dim, num_layers = 2)\n",
    "    def forward(self,x):\n",
    "        o1 = self.conv(x)# o1 - batch, hidden_dim, seq_len\n",
    "        o2 = o1.permute(2,0,1)\n",
    "        output, hidden = self.lstm(o2)#output是所有时间点最后一层隐藏层(time, batch, out_dim)\n",
    "        o = output.mean(dim = 0)#时间维度上平均池化\n",
    "        return o"
   ]
  },
  {
   "cell_type": "code",
   "execution_count": 5,
   "metadata": {},
   "outputs": [
    {
     "data": {
      "text/plain": [
       "torch.Size([5, 42])"
      ]
     },
     "execution_count": 5,
     "metadata": {},
     "output_type": "execute_result"
    }
   ],
   "source": [
    "model = Net_2(39,128,42)\n",
    "x = torch.randn(5, 39, 135)#Batch, feature_dim, time\n",
    "y = model(x)\n",
    "y.shape#(Batch,class_num) "
   ]
  },
  {
   "cell_type": "code",
   "execution_count": null,
   "metadata": {},
   "outputs": [],
   "source": []
  },
  {
   "cell_type": "code",
   "execution_count": null,
   "metadata": {},
   "outputs": [],
   "source": []
  }
 ],
 "metadata": {
  "kernelspec": {
   "display_name": "Python [conda env:torch]",
   "language": "python",
   "name": "conda-env-torch-py"
  },
  "language_info": {
   "codemirror_mode": {
    "name": "ipython",
    "version": 3
   },
   "file_extension": ".py",
   "mimetype": "text/x-python",
   "name": "python",
   "nbconvert_exporter": "python",
   "pygments_lexer": "ipython3",
   "version": "3.7.9"
  }
 },
 "nbformat": 4,
 "nbformat_minor": 4
}
