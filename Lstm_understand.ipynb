{
 "cells": [
  {
   "cell_type": "code",
   "execution_count": 4,
   "id": "brutal-conservative",
   "metadata": {},
   "outputs": [
    {
     "name": "stdout",
     "output_type": "stream",
     "text": [
      "inputs:\n",
      " tensor([[0., 0., 0.],\n",
      "        [1., 1., 1.],\n",
      "        [2., 2., 2.]])\n",
      "inputs.t(): tensor([[0., 1., 2.],\n",
      "        [0., 1., 2.],\n",
      "        [0., 1., 2.]])\n",
      "inputs_t:\n",
      " tensor([[0., 1., 2.],\n",
      "        [0., 1., 2.],\n",
      "        [0., 1., 2.]])\n",
      "a:\n",
      " tensor([[0., 3., 6.],\n",
      "        [1., 4., 7.],\n",
      "        [2., 5., 8.]])\n",
      "b:\n",
      " tensor([[0., 3., 6.],\n",
      "        [1., 4., 7.],\n",
      "        [2., 5., 8.]])\n",
      "c:\n",
      " tensor([[0., 3., 6.],\n",
      "        [1., 4., 7.],\n",
      "        [2., 5., 8.]])\n",
      "d:\n",
      " tensor([[0., 3., 6.],\n",
      "        [1., 4., 7.],\n",
      "        [2., 5., 8.]])\n",
      "e:\n",
      " tensor([[0., 3., 6.],\n",
      "        [1., 4., 7.],\n",
      "        [2., 5., 8.]])\n",
      "f:\n",
      " tensor([[0., 3., 6.],\n",
      "        [1., 4., 7.],\n",
      "        [2., 5., 8.]])\n",
      "g:\n",
      " tensor([[0., 3., 6.],\n",
      "        [1., 4., 7.],\n",
      "        [2., 5., 8.]])\n",
      "g2:\n",
      " tensor([[ 0.,  3.,  6.],\n",
      "        [ 2.,  5.,  8.],\n",
      "        [ 4.,  7., 10.]])\n",
      "h:\n",
      " tensor([[0., 3., 6.],\n",
      "        [1., 4., 7.],\n",
      "        [2., 5., 8.]])\n",
      "h12:\n",
      " tensor([[ 0.,  6., 12.],\n",
      "        [ 1.,  7., 13.],\n",
      "        [ 2.,  8., 14.]])\n",
      "h21:\n",
      " tensor([[ 0.,  3.,  6.],\n",
      "        [ 2.,  5.,  8.],\n",
      "        [ 4.,  7., 10.]])\n",
      "inputs:\n",
      " tensor([[0., 0., 0.],\n",
      "        [1., 1., 1.],\n",
      "        [2., 2., 2.]])\n",
      "inputs:\n",
      " tensor([[  0.,   0.,   0.],\n",
      "        [  1.,  -5.,  13.],\n",
      "        [  2., -34., 122.]])\n"
     ]
    }
   ],
   "source": [
    "\"\"\"\n",
    "@author:nickhuang1996\n",
    "\"\"\"\n",
    "import torch\n",
    " \n",
    "rectangle_height = 3\n",
    "rectangle_width = 3\n",
    "inputs = torch.randn(rectangle_height, rectangle_width)\n",
    "for i in range(rectangle_height):\n",
    "    for j in range(rectangle_width):\n",
    "        inputs[i] = i * torch.ones(rectangle_width)\n",
    "'''\n",
    "inputs and its transpose\n",
    "-->inputs   =   tensor([[0., 0., 0.],\n",
    "                        [1., 1., 1.],\n",
    "                        [2., 2., 2.]])\n",
    "-->inputs_t =   tensor([[0., 1., 2.],\n",
    "                        [0., 1., 2.],\n",
    "                        [0., 1., 2.]])\n",
    "'''\n",
    "print(\"inputs:\\n\", inputs)\n",
    "print(\"inputs.t():\",inputs.t())\n",
    "inputs_t = inputs.t()  # t就是转制\n",
    "print(\"inputs_t:\\n\", inputs_t)\n",
    "'''\n",
    "inputs_t @ inputs_t    [[0., 1., 2.],       [[0., 1., 2.],          [[0., 3., 6.]\n",
    "                    =   [0., 1., 2.],   @    [0., 1., 2.],     =     [0., 3., 6.]\n",
    "                        [0., 1., 2.]]        [0., 1., 2.]]           [0., 3., 6.]]\n",
    "'''\n",
    " \n",
    "'''a, b, c and d = 1 * inputs + 1 * (inputs_t @ inputs_t)'''\n",
    "a = torch.addmm(input=inputs, mat1=inputs_t, mat2=inputs_t)\n",
    "b = inputs.addmm(mat1=inputs_t, mat2=inputs_t)\n",
    "c = torch.addmm(input=inputs, beta=1, mat1=inputs_t, mat2=inputs_t, alpha=1)\n",
    "d = inputs.addmm(beta=1, mat1=inputs_t, mat2=inputs_t, alpha=1)\n",
    "'''e and f = 1 * inputs + 1 * (inputs_t @ inputs_t)'''\n",
    "e = torch.addmm(inputs, inputs_t, inputs_t)\n",
    "f = inputs.addmm(inputs_t, inputs_t)\n",
    "'''1 * inputs + 1 * (inputs_t @ inputs_t)'''\n",
    "g = inputs.addmm(1, inputs_t, inputs_t)\n",
    "'''2 * inputs + 1 * (inputs_t @ inputs_t)'''\n",
    "g2 = inputs.addmm(2, inputs_t, inputs_t)\n",
    "'''h = 1 * inputs + 1 * (inputs_t @ inputs_t)'''\n",
    "h = inputs.addmm(1, 1, inputs_t, inputs_t)\n",
    "'''h12 = 1 * inputs + 2 * (inputs_t @ inputs_t)'''\n",
    "h12 = inputs.addmm(1, 2, inputs_t, inputs_t)\n",
    "'''h21 = 2 * inputs + 1 * (inputs_t @ inputs_t)'''\n",
    "h21 = inputs.addmm(2, 1, inputs_t, inputs_t)\n",
    "print(\"a:\\n\", a)\n",
    "print(\"b:\\n\", b)\n",
    "print(\"c:\\n\", c)\n",
    "print(\"d:\\n\", d)\n",
    " \n",
    "print(\"e:\\n\", e)\n",
    "print(\"f:\\n\", f)\n",
    " \n",
    "print(\"g:\\n\", g)\n",
    "print(\"g2:\\n\", g2)\n",
    " \n",
    "print(\"h:\\n\", h)\n",
    "print(\"h12:\\n\", h12)\n",
    "print(\"h21:\\n\", h21)\n",
    "print(\"inputs:\\n\", inputs)\n",
    "'''inputs = 1 * inputs - 2 * (inputs @ inputs_t)'''\n",
    "'''\n",
    "inputs @ inputs_t       [[0., 0., 0.],       [[0., 1., 2.],          [[0., 0., 0.]\n",
    "                    =    [1., 1., 1.],   @    [0., 1., 2.],     =     [0., 3., 6.]\n",
    "                         [2., 2., 2.]]        [0., 1., 2.]]           [0., 6., 12.]]\n",
    "'''\n",
    "inputs.addmm_(1, -2, inputs, inputs_t)  # In-place\n",
    "print(\"inputs:\\n\", inputs)"
   ]
  },
  {
   "cell_type": "code",
   "execution_count": 3,
   "id": "three-counter",
   "metadata": {},
   "outputs": [
    {
     "data": {
      "text/plain": [
       "tensor([[  0.,   1.,   2.],\n",
       "        [  0.,  -5., -34.],\n",
       "        [  0.,  13., 122.]])"
      ]
     },
     "execution_count": 3,
     "metadata": {},
     "output_type": "execute_result"
    }
   ],
   "source": [
    "inputs.t()"
   ]
  },
  {
   "cell_type": "code",
   "execution_count": 5,
   "id": "amino-growing",
   "metadata": {},
   "outputs": [],
   "source": [
    "x = torch.randn(4,3)\n",
    "y = torch.chunk(x,4,dim = 0)"
   ]
  },
  {
   "cell_type": "code",
   "execution_count": 7,
   "id": "empirical-medicine",
   "metadata": {},
   "outputs": [
    {
     "data": {
      "text/plain": [
       "4"
      ]
     },
     "execution_count": 7,
     "metadata": {},
     "output_type": "execute_result"
    }
   ],
   "source": [
    "len(y)"
   ]
  },
  {
   "cell_type": "code",
   "execution_count": 9,
   "id": "spectacular-berkeley",
   "metadata": {},
   "outputs": [
    {
     "data": {
      "text/plain": [
       "torch.Size([1, 3])"
      ]
     },
     "execution_count": 9,
     "metadata": {},
     "output_type": "execute_result"
    }
   ],
   "source": [
    "y[0].shape"
   ]
  },
  {
   "cell_type": "code",
   "execution_count": 12,
   "id": "amino-belief",
   "metadata": {},
   "outputs": [],
   "source": [
    "z = x.unbind(0)"
   ]
  },
  {
   "cell_type": "code",
   "execution_count": 13,
   "id": "traditional-grill",
   "metadata": {},
   "outputs": [
    {
     "data": {
      "text/plain": [
       "4"
      ]
     },
     "execution_count": 13,
     "metadata": {},
     "output_type": "execute_result"
    }
   ],
   "source": [
    "len(z)"
   ]
  },
  {
   "cell_type": "code",
   "execution_count": 15,
   "id": "wanted-biology",
   "metadata": {},
   "outputs": [
    {
     "data": {
      "text/plain": [
       "torch.Size([3])"
      ]
     },
     "execution_count": 15,
     "metadata": {},
     "output_type": "execute_result"
    }
   ],
   "source": [
    "z[0].shape"
   ]
  },
  {
   "cell_type": "code",
   "execution_count": 16,
   "id": "quick-affiliation",
   "metadata": {},
   "outputs": [],
   "source": [
    "x = torch.randn(512,135,135)"
   ]
  },
  {
   "cell_type": "code",
   "execution_count": 18,
   "id": "opponent-player",
   "metadata": {},
   "outputs": [
    {
     "data": {
      "text/plain": [
       "torch.Size([512, 135, 135])"
      ]
     },
     "execution_count": 18,
     "metadata": {},
     "output_type": "execute_result"
    }
   ],
   "source": [
    "torch.softmax(x, dim = -1).shape"
   ]
  },
  {
   "cell_type": "code",
   "execution_count": 19,
   "id": "earned-bowling",
   "metadata": {},
   "outputs": [],
   "source": [
    "batch_size = 512\n",
    "seq_len = 135\n",
    "feature_dim = 400\n",
    "q = torch.randn(batch_size, 1, feature_dim)\n",
    "k = torch.randn(batch_size, seq_len,feature_dim)\n",
    "v = torch.randn(batch_size, seq_len,feature_dim)\n"
   ]
  },
  {
   "cell_type": "code",
   "execution_count": 20,
   "id": "existing-particle",
   "metadata": {},
   "outputs": [],
   "source": [
    "z = torch.bmm(q,k.transpose(1,2))"
   ]
  },
  {
   "cell_type": "code",
   "execution_count": 21,
   "id": "joined-visit",
   "metadata": {},
   "outputs": [
    {
     "data": {
      "text/plain": [
       "torch.Size([512, 1, 135])"
      ]
     },
     "execution_count": 21,
     "metadata": {},
     "output_type": "execute_result"
    }
   ],
   "source": [
    "z.shape"
   ]
  },
  {
   "cell_type": "code",
   "execution_count": null,
   "id": "encouraging-second",
   "metadata": {},
   "outputs": [],
   "source": []
  }
 ],
 "metadata": {
  "kernelspec": {
   "display_name": "Python [conda env:torch]",
   "language": "python",
   "name": "conda-env-torch-py"
  },
  "language_info": {
   "codemirror_mode": {
    "name": "ipython",
    "version": 3
   },
   "file_extension": ".py",
   "mimetype": "text/x-python",
   "name": "python",
   "nbconvert_exporter": "python",
   "pygments_lexer": "ipython3",
   "version": "3.9.2"
  }
 },
 "nbformat": 4,
 "nbformat_minor": 5
}
