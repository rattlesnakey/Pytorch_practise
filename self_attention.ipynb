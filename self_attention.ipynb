{
 "cells": [
  {
   "cell_type": "code",
   "execution_count": 1,
   "metadata": {},
   "outputs": [],
   "source": [
    "import torch\n",
    "import torch.nn as nn\n",
    "from torchsnooper import snoop"
   ]
  },
  {
   "cell_type": "code",
   "execution_count": 2,
   "metadata": {},
   "outputs": [],
   "source": [
    "class SA(nn.Module):\n",
    "    def __init__(self, ndim, k_dim, v_dim):\n",
    "        super(SA,self).__init__()\n",
    "        self.q1 = nn.Conv1d(ndim,k_dim,1)  # channel数就是词向量的维度，kernel_size = 1的意思是时间维度不变，也就是词的数量\n",
    "        self.k1 = nn.Conv1d(ndim,k_dim,1)\n",
    "        self.v1 = nn.Conv1d(ndim,v_dim,1)\n",
    "    @snoop()\n",
    "    def forward(self,x):\n",
    "        q = self.q1(x)\n",
    "        k = self.k1(x)\n",
    "        v = self.v1(x)\n",
    "        o1 = torch.matmul(k.permute(0,2,1),q).softmax(1)\n",
    "        o2 = torch.matmul(v,o1)\n",
    "        return o2"
   ]
  },
  {
   "cell_type": "markdown",
   "metadata": {},
   "source": [
    "* 这个其实应该是没有scaled的, 不能叫scaled dot product attention 因为它没有除以sqrt(K)"
   ]
  },
  {
   "cell_type": "code",
   "execution_count": 3,
   "metadata": {},
   "outputs": [
    {
     "name": "stderr",
     "output_type": "stream",
     "text": [
      "Source path:... <ipython-input-2-9be4942b5083>\n",
      "Starting var:.. self = SA(  (q1): Conv1d(512, 1024, kernel_size=(1,), s... Conv1d(512, 512, kernel_size=(1,), stride=(1,)))\n",
      "Starting var:.. x = tensor<(42, 512, 135), float32, cpu>\n",
      "15:11:30.900458 call         8     def forward(self,x):\n",
      "15:11:30.905356 line         9         q = self.q1(x)\n",
      "New var:....... q = tensor<(42, 1024, 135), float32, cpu, grad>\n",
      "15:11:31.411780 line        10         k = self.k1(x)\n",
      "New var:....... k = tensor<(42, 1024, 135), float32, cpu, grad>\n",
      "15:11:31.903031 line        11         v = self.v1(x)\n",
      "New var:....... v = tensor<(42, 512, 135), float32, cpu, grad>\n",
      "15:11:32.169166 line        12         o1 = torch.matmul(k.permute(0,2,1),q).softmax(1)\n",
      "New var:....... o1 = tensor<(42, 135, 135), float32, cpu, grad>\n",
      "15:11:32.197913 line        13         o2 = torch.matmul(v,o1)\n",
      "New var:....... o2 = tensor<(42, 512, 135), float32, cpu, grad>\n",
      "15:11:32.216209 line        14         return o2\n",
      "15:11:32.231383 return      14         return o2\n",
      "Return value:.. tensor<(42, 512, 135), float32, cpu, grad>\n",
      "Elapsed time: 00:00:01.347252\n"
     ]
    }
   ],
   "source": [
    "x = torch.rand(42, 512, 135)\n",
    "model = SA(512,1024,512)\n",
    "out = model(x)"
   ]
  },
  {
   "cell_type": "code",
   "execution_count": 4,
   "metadata": {},
   "outputs": [
    {
     "data": {
      "text/plain": [
       "torch.Size([42, 512, 135])"
      ]
     },
     "execution_count": 4,
     "metadata": {},
     "output_type": "execute_result"
    }
   ],
   "source": [
    "out.shape"
   ]
  },
  {
   "cell_type": "code",
   "execution_count": null,
   "metadata": {},
   "outputs": [],
   "source": []
  }
 ],
 "metadata": {
  "kernelspec": {
   "display_name": "Python 3",
   "language": "python",
   "name": "python3"
  },
  "language_info": {
   "codemirror_mode": {
    "name": "ipython",
    "version": 3
   },
   "file_extension": ".py",
   "mimetype": "text/x-python",
   "name": "python",
   "nbconvert_exporter": "python",
   "pygments_lexer": "ipython3",
   "version": "3.9.2"
  }
 },
 "nbformat": 4,
 "nbformat_minor": 4
}
