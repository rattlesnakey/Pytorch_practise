{
 "cells": [
  {
   "cell_type": "code",
   "execution_count": 85,
   "id": "standard-wichita",
   "metadata": {},
   "outputs": [],
   "source": [
    "import torch.nn as nn\n",
    "import torch\n",
    "import torch.nn.functional as F"
   ]
  },
  {
   "cell_type": "code",
   "execution_count": 14,
   "id": "spoken-masters",
   "metadata": {},
   "outputs": [],
   "source": [
    "from torchsnooper import snoop"
   ]
  },
  {
   "cell_type": "code",
   "execution_count": 95,
   "id": "polyphonic-fantasy",
   "metadata": {},
   "outputs": [],
   "source": [
    "class Gru_Decoder(nn.Module):\n",
    "\n",
    "    def __init__(self,  word_embeddings, batch_size, vocab_size, input_size = 768, hidden_size = 2048, num_layers = 2):\n",
    "        super(Gru_Decoder,self).__init__()\n",
    "        self.batch_size, self.num_layers, self.hidden_size = batch_size, num_layers, hidden_size\n",
    "        self.gru = nn.GRU(input_size + input_size, hidden_size, num_layers, batch_first = True)  # teacher_forcing的是768，trg的也是768\n",
    "        self.bert_embedding = word_embeddings\n",
    "        self.fc_1 = nn.Linear(2048, 4096)\n",
    "        self.fc_2 = nn.Linear(4096, vocab_size)\n",
    "        self.dropout = nn.Dropout(p = 0.5)\n",
    "    @snoop()\n",
    "    def forward_step(self, trg_emb, teacher_forcing_input, hidden):\n",
    "        '''\n",
    "        gru一开始的hidden 应该怎么传入进去\n",
    "        '''\n",
    "        teacher_forcing_embed = self.bert_embedding(teacher_forcing_input)  # (batch_size, 1, 768)\n",
    "        x = torch.cat((trg_emb, teacher_forcing_embed), -1)        # (batch_size, 1, 768*2 -> teacher_forcing)\n",
    "        output, hidden = self.gru(x, hidden)  # (output:batch_size, 1, 2048)\n",
    "        o1 = F.relu(self.fc_1(output))\n",
    "        o2 = self.dropout(o1)\n",
    "        o3 = self.fc_2(o1)  \n",
    "        return o3, hidden\n",
    "\n",
    "\n",
    "    def forward(self, trg_emb, labels):  # trg_embed是整个batch的\n",
    "        '''\n",
    "        返回该batch中所有trg的概率结果，输出格式为batch_size, seq_len, vocab_size\n",
    "        '''\n",
    "        hidden = nn.Parameter(torch.zeros(self.num_layers, self.batch_size, self.hidden_size))\n",
    "        add_seq_len = []\n",
    "        for time_step in range(1, labels.size(1)):  # labels.size(1) == seq_len\n",
    "            teacher_forcing_input = labels[:, time_step].unsqueeze(1)  # (batch_size, 1), seq_len都是1\n",
    "            output, hidden = self.forward_step(trg_emb, teacher_forcing_input, hidden)  # 每个时间点放入的都是trg和当前decode的词，output : batch_size, 1, vocab_size \n",
    "            # hidden : batch_size, 1, hidden\n",
    "            add_seq_len.append(output)  # 每个时间点的预测结果存起来\n",
    "        \n",
    "        trg_pred = torch.stack(add_seq_len).squeeze().permute(1,0,2)  # (batch_size, seq_len, vocab_size)\n",
    "        return trg_pred"
   ]
  },
  {
   "cell_type": "code",
   "execution_count": 96,
   "id": "innocent-darkness",
   "metadata": {},
   "outputs": [],
   "source": [
    "batch_size, vocab_size, word_embedding_dim = 3, 5, 768 \n",
    "labels = torch.LongTensor([[0,1,3,4,0],[2,3,3,4,0],[1,2,0,0,0]])\n",
    "trg_embed = torch.randn(batch_size, 1, word_embedding_dim)"
   ]
  },
  {
   "cell_type": "code",
   "execution_count": 97,
   "id": "terminal-november",
   "metadata": {},
   "outputs": [],
   "source": [
    "embedding = nn.Embedding(vocab_size, word_embedding_dim)"
   ]
  },
  {
   "cell_type": "code",
   "execution_count": 98,
   "id": "durable-netscape",
   "metadata": {},
   "outputs": [
    {
     "data": {
      "text/plain": [
       "torch.Size([2, 768])"
      ]
     },
     "execution_count": 98,
     "metadata": {},
     "output_type": "execute_result"
    }
   ],
   "source": [
    "embedding(torch.LongTensor([0,1])).shape"
   ]
  },
  {
   "cell_type": "code",
   "execution_count": 99,
   "id": "limited-cache",
   "metadata": {},
   "outputs": [],
   "source": [
    "model = Gru_Decoder(embedding, batch_size, vocab_size)"
   ]
  },
  {
   "cell_type": "code",
   "execution_count": 100,
   "id": "primary-error",
   "metadata": {},
   "outputs": [
    {
     "name": "stderr",
     "output_type": "stream",
     "text": [
      "Source path:... <ipython-input-95-6ea889145288>\n",
      "Starting var:.. self = Gru_Decoder(  (gru): GRU(1536, 2048, num_layers=...=True)  (dropout): Dropout(p=0.5, inplace=False))\n",
      "Starting var:.. trg_emb = tensor<(3, 1, 768), float32, cpu>\n",
      "Starting var:.. teacher_forcing_input = tensor<(3, 1), int64, cpu>\n",
      "Starting var:.. hidden = tensor<(2, 3, 2048), float32, cpu, grad>\n",
      "20:48:38.771030 call        12     def forward_step(self, trg_emb, teacher_forcing_input, hidden):\n",
      "20:48:38.773328 line        16         teacher_forcing_embed = self.bert_embedding(teacher_forcing_input)  # (batch_size, 1, 768)\n",
      "New var:....... teacher_forcing_embed = tensor<(3, 1, 768), float32, cpu, grad>\n",
      "20:48:38.775502 line        17         x = torch.cat((trg_emb, teacher_forcing_embed), -1)        # (batch_size, 1, 768*2 -> teacher_forcing)\n",
      "New var:....... x = tensor<(3, 1, 1536), float32, cpu, grad>\n",
      "20:48:38.776548 line        18         output, hidden = self.gru(x, hidden)  # (output:batch_size, 1, 2048)\n",
      "New var:....... output = tensor<(3, 1, 2048), float32, cpu, grad>\n",
      "20:48:38.802047 line        19         o1 = F.relu(self.fc_1(output))\n",
      "New var:....... o1 = tensor<(3, 1, 4096), float32, cpu, grad>\n",
      "20:48:38.805286 line        20         o2 = self.dropout(o1)\n",
      "New var:....... o2 = tensor<(3, 1, 4096), float32, cpu, grad>\n",
      "20:48:38.805753 line        21         o3 = self.fc_2(o1)  \n",
      "New var:....... o3 = tensor<(3, 1, 5), float32, cpu, grad>\n",
      "20:48:38.806253 line        22         return o3, hidden\n",
      "20:48:38.806574 return      22         return o3, hidden\n",
      "Return value:.. (tensor<(3, 1, 5), float32, cpu, grad>, tensor<(2, 3, 2048), float32, cpu, grad>)\n",
      "Elapsed time: 00:00:00.036304\n",
      "Starting var:.. self = Gru_Decoder(  (gru): GRU(1536, 2048, num_layers=...=True)  (dropout): Dropout(p=0.5, inplace=False))\n",
      "Starting var:.. trg_emb = tensor<(3, 1, 768), float32, cpu>\n",
      "Starting var:.. teacher_forcing_input = tensor<(3, 1), int64, cpu>\n",
      "Starting var:.. hidden = tensor<(2, 3, 2048), float32, cpu, grad>\n",
      "20:48:38.807366 call        12     def forward_step(self, trg_emb, teacher_forcing_input, hidden):\n",
      "20:48:38.807705 line        16         teacher_forcing_embed = self.bert_embedding(teacher_forcing_input)  # (batch_size, 1, 768)\n",
      "New var:....... teacher_forcing_embed = tensor<(3, 1, 768), float32, cpu, grad>\n",
      "20:48:38.808168 line        17         x = torch.cat((trg_emb, teacher_forcing_embed), -1)        # (batch_size, 1, 768*2 -> teacher_forcing)\n",
      "New var:....... x = tensor<(3, 1, 1536), float32, cpu, grad>\n",
      "20:48:38.808726 line        18         output, hidden = self.gru(x, hidden)  # (output:batch_size, 1, 2048)\n",
      "New var:....... output = tensor<(3, 1, 2048), float32, cpu, grad>\n",
      "20:48:38.821221 line        19         o1 = F.relu(self.fc_1(output))\n",
      "New var:....... o1 = tensor<(3, 1, 4096), float32, cpu, grad>\n",
      "20:48:38.824575 line        20         o2 = self.dropout(o1)\n",
      "New var:....... o2 = tensor<(3, 1, 4096), float32, cpu, grad>\n",
      "20:48:38.825307 line        21         o3 = self.fc_2(o1)  \n",
      "New var:....... o3 = tensor<(3, 1, 5), float32, cpu, grad>\n",
      "20:48:38.825869 line        22         return o3, hidden\n",
      "20:48:38.826266 return      22         return o3, hidden\n",
      "Return value:.. (tensor<(3, 1, 5), float32, cpu, grad>, tensor<(2, 3, 2048), float32, cpu, grad>)\n",
      "Elapsed time: 00:00:00.019590\n",
      "Starting var:.. self = Gru_Decoder(  (gru): GRU(1536, 2048, num_layers=...=True)  (dropout): Dropout(p=0.5, inplace=False))\n",
      "Starting var:.. trg_emb = tensor<(3, 1, 768), float32, cpu>\n",
      "Starting var:.. teacher_forcing_input = tensor<(3, 1), int64, cpu>\n",
      "Starting var:.. hidden = tensor<(2, 3, 2048), float32, cpu, grad>\n",
      "20:48:38.826996 call        12     def forward_step(self, trg_emb, teacher_forcing_input, hidden):\n",
      "20:48:38.827412 line        16         teacher_forcing_embed = self.bert_embedding(teacher_forcing_input)  # (batch_size, 1, 768)\n",
      "New var:....... teacher_forcing_embed = tensor<(3, 1, 768), float32, cpu, grad>\n",
      "20:48:38.827872 line        17         x = torch.cat((trg_emb, teacher_forcing_embed), -1)        # (batch_size, 1, 768*2 -> teacher_forcing)\n",
      "New var:....... x = tensor<(3, 1, 1536), float32, cpu, grad>\n",
      "20:48:38.828849 line        18         output, hidden = self.gru(x, hidden)  # (output:batch_size, 1, 2048)\n",
      "New var:....... output = tensor<(3, 1, 2048), float32, cpu, grad>\n",
      "20:48:38.840440 line        19         o1 = F.relu(self.fc_1(output))\n",
      "New var:....... o1 = tensor<(3, 1, 4096), float32, cpu, grad>\n",
      "20:48:38.843741 line        20         o2 = self.dropout(o1)\n",
      "New var:....... o2 = tensor<(3, 1, 4096), float32, cpu, grad>\n",
      "20:48:38.844255 line        21         o3 = self.fc_2(o1)  \n",
      "New var:....... o3 = tensor<(3, 1, 5), float32, cpu, grad>\n",
      "20:48:38.844687 line        22         return o3, hidden\n",
      "20:48:38.845057 return      22         return o3, hidden\n",
      "Return value:.. (tensor<(3, 1, 5), float32, cpu, grad>, tensor<(2, 3, 2048), float32, cpu, grad>)\n",
      "Elapsed time: 00:00:00.018587\n",
      "Starting var:.. self = Gru_Decoder(  (gru): GRU(1536, 2048, num_layers=...=True)  (dropout): Dropout(p=0.5, inplace=False))\n",
      "Starting var:.. trg_emb = tensor<(3, 1, 768), float32, cpu>\n",
      "Starting var:.. teacher_forcing_input = tensor<(3, 1), int64, cpu>\n",
      "Starting var:.. hidden = tensor<(2, 3, 2048), float32, cpu, grad>\n",
      "20:48:38.845614 call        12     def forward_step(self, trg_emb, teacher_forcing_input, hidden):\n",
      "20:48:38.845804 line        16         teacher_forcing_embed = self.bert_embedding(teacher_forcing_input)  # (batch_size, 1, 768)\n",
      "New var:....... teacher_forcing_embed = tensor<(3, 1, 768), float32, cpu, grad>\n",
      "20:48:38.845998 line        17         x = torch.cat((trg_emb, teacher_forcing_embed), -1)        # (batch_size, 1, 768*2 -> teacher_forcing)\n",
      "New var:....... x = tensor<(3, 1, 1536), float32, cpu, grad>\n",
      "20:48:38.846187 line        18         output, hidden = self.gru(x, hidden)  # (output:batch_size, 1, 2048)\n",
      "New var:....... output = tensor<(3, 1, 2048), float32, cpu, grad>\n",
      "20:48:38.859696 line        19         o1 = F.relu(self.fc_1(output))\n",
      "New var:....... o1 = tensor<(3, 1, 4096), float32, cpu, grad>\n",
      "20:48:38.861902 line        20         o2 = self.dropout(o1)\n",
      "New var:....... o2 = tensor<(3, 1, 4096), float32, cpu, grad>\n",
      "20:48:38.862356 line        21         o3 = self.fc_2(o1)  \n",
      "New var:....... o3 = tensor<(3, 1, 5), float32, cpu, grad>\n",
      "20:48:38.862757 line        22         return o3, hidden\n",
      "20:48:38.863153 return      22         return o3, hidden\n",
      "Return value:.. (tensor<(3, 1, 5), float32, cpu, grad>, tensor<(2, 3, 2048), float32, cpu, grad>)\n",
      "Elapsed time: 00:00:00.018085\n"
     ]
    }
   ],
   "source": [
    "pred = model(trg_embed, labels)"
   ]
  },
  {
   "cell_type": "code",
   "execution_count": 101,
   "id": "wrong-lyric",
   "metadata": {},
   "outputs": [
    {
     "data": {
      "text/plain": [
       "torch.Size([3, 5])"
      ]
     },
     "execution_count": 101,
     "metadata": {},
     "output_type": "execute_result"
    }
   ],
   "source": [
    "labels.size()"
   ]
  },
  {
   "cell_type": "code",
   "execution_count": 102,
   "id": "formed-limitation",
   "metadata": {},
   "outputs": [
    {
     "data": {
      "text/plain": [
       "torch.Size([3, 4, 5])"
      ]
     },
     "execution_count": 102,
     "metadata": {},
     "output_type": "execute_result"
    }
   ],
   "source": [
    "pred.shape"
   ]
  },
  {
   "cell_type": "code",
   "execution_count": null,
   "id": "pointed-cooperation",
   "metadata": {},
   "outputs": [],
   "source": []
  },
  {
   "cell_type": "code",
   "execution_count": null,
   "id": "cheap-break",
   "metadata": {},
   "outputs": [],
   "source": []
  },
  {
   "cell_type": "code",
   "execution_count": null,
   "id": "hearing-silver",
   "metadata": {},
   "outputs": [],
   "source": []
  },
  {
   "cell_type": "code",
   "execution_count": null,
   "id": "sapphire-childhood",
   "metadata": {},
   "outputs": [],
   "source": []
  },
  {
   "cell_type": "code",
   "execution_count": null,
   "id": "intended-building",
   "metadata": {},
   "outputs": [],
   "source": []
  },
  {
   "cell_type": "code",
   "execution_count": null,
   "id": "according-determination",
   "metadata": {},
   "outputs": [],
   "source": []
  },
  {
   "cell_type": "code",
   "execution_count": null,
   "id": "eastern-delaware",
   "metadata": {},
   "outputs": [],
   "source": []
  },
  {
   "cell_type": "code",
   "execution_count": null,
   "id": "incident-wages",
   "metadata": {},
   "outputs": [],
   "source": []
  },
  {
   "cell_type": "code",
   "execution_count": null,
   "id": "explicit-evans",
   "metadata": {},
   "outputs": [],
   "source": []
  },
  {
   "cell_type": "code",
   "execution_count": null,
   "id": "future-preparation",
   "metadata": {},
   "outputs": [],
   "source": []
  },
  {
   "cell_type": "code",
   "execution_count": null,
   "id": "careful-telling",
   "metadata": {},
   "outputs": [],
   "source": []
  },
  {
   "cell_type": "code",
   "execution_count": null,
   "id": "sixth-netscape",
   "metadata": {},
   "outputs": [],
   "source": []
  },
  {
   "cell_type": "code",
   "execution_count": null,
   "id": "residential-patio",
   "metadata": {},
   "outputs": [],
   "source": []
  },
  {
   "cell_type": "code",
   "execution_count": null,
   "id": "backed-company",
   "metadata": {},
   "outputs": [],
   "source": []
  },
  {
   "cell_type": "code",
   "execution_count": 27,
   "id": "moved-supply",
   "metadata": {},
   "outputs": [],
   "source": [
    "x = embedding(labels[:,1].unsqueeze(1))"
   ]
  },
  {
   "cell_type": "code",
   "execution_count": 28,
   "id": "individual-retro",
   "metadata": {},
   "outputs": [
    {
     "data": {
      "text/plain": [
       "torch.Size([3, 1, 768])"
      ]
     },
     "execution_count": 28,
     "metadata": {},
     "output_type": "execute_result"
    }
   ],
   "source": [
    "x.shape"
   ]
  },
  {
   "cell_type": "code",
   "execution_count": 25,
   "id": "warming-venezuela",
   "metadata": {},
   "outputs": [
    {
     "data": {
      "text/plain": [
       "torch.Size([3, 1, 768])"
      ]
     },
     "execution_count": 25,
     "metadata": {},
     "output_type": "execute_result"
    }
   ],
   "source": [
    "trg_embed.shape"
   ]
  },
  {
   "cell_type": "code",
   "execution_count": 30,
   "id": "minute-ability",
   "metadata": {},
   "outputs": [],
   "source": [
    "x = torch.cat((trg_embed, x), -1)"
   ]
  },
  {
   "cell_type": "code",
   "execution_count": 31,
   "id": "aerial-cowboy",
   "metadata": {},
   "outputs": [
    {
     "data": {
      "text/plain": [
       "torch.Size([3, 1, 1536])"
      ]
     },
     "execution_count": 31,
     "metadata": {},
     "output_type": "execute_result"
    }
   ],
   "source": [
    "x.shape"
   ]
  },
  {
   "cell_type": "code",
   "execution_count": 32,
   "id": "macro-problem",
   "metadata": {},
   "outputs": [],
   "source": [
    "gru = nn.GRU(input_size = 1536, hidden_size = 2048, num_layers = 2, batch_first = True)"
   ]
  },
  {
   "cell_type": "code",
   "execution_count": 33,
   "id": "restricted-furniture",
   "metadata": {},
   "outputs": [],
   "source": [
    "o, h = gru(x)"
   ]
  },
  {
   "cell_type": "code",
   "execution_count": 34,
   "id": "patient-correspondence",
   "metadata": {},
   "outputs": [
    {
     "data": {
      "text/plain": [
       "torch.Size([3, 1, 2048])"
      ]
     },
     "execution_count": 34,
     "metadata": {},
     "output_type": "execute_result"
    }
   ],
   "source": [
    "o.shape"
   ]
  },
  {
   "cell_type": "code",
   "execution_count": 35,
   "id": "restricted-carry",
   "metadata": {},
   "outputs": [
    {
     "data": {
      "text/plain": [
       "torch.Size([2, 3, 2048])"
      ]
     },
     "execution_count": 35,
     "metadata": {},
     "output_type": "execute_result"
    }
   ],
   "source": [
    "h.shape"
   ]
  },
  {
   "cell_type": "code",
   "execution_count": 37,
   "id": "exotic-greek",
   "metadata": {},
   "outputs": [],
   "source": [
    "y, z = torch.randn(3,1,2048), torch.randn(3,1,2048)"
   ]
  },
  {
   "cell_type": "code",
   "execution_count": 67,
   "id": "light-wallet",
   "metadata": {},
   "outputs": [],
   "source": [
    "p = [o,y]"
   ]
  },
  {
   "cell_type": "code",
   "execution_count": 68,
   "id": "delayed-analyst",
   "metadata": {},
   "outputs": [],
   "source": [
    "m = torch.stack(p)"
   ]
  },
  {
   "cell_type": "code",
   "execution_count": 69,
   "id": "spatial-criterion",
   "metadata": {},
   "outputs": [
    {
     "data": {
      "text/plain": [
       "torch.Size([2, 3, 1, 2048])"
      ]
     },
     "execution_count": 69,
     "metadata": {},
     "output_type": "execute_result"
    }
   ],
   "source": [
    "m.shape"
   ]
  },
  {
   "cell_type": "code",
   "execution_count": 72,
   "id": "alive-alert",
   "metadata": {},
   "outputs": [
    {
     "data": {
      "text/plain": [
       "torch.Size([3, 2, 2048])"
      ]
     },
     "execution_count": 72,
     "metadata": {},
     "output_type": "execute_result"
    }
   ],
   "source": [
    "m.squeeze().permute(1,0,2).shape"
   ]
  },
  {
   "cell_type": "code",
   "execution_count": null,
   "id": "passive-boring",
   "metadata": {},
   "outputs": [],
   "source": []
  }
 ],
 "metadata": {
  "kernelspec": {
   "display_name": "Python [conda env:torch]",
   "language": "python",
   "name": "conda-env-torch-py"
  },
  "language_info": {
   "codemirror_mode": {
    "name": "ipython",
    "version": 3
   },
   "file_extension": ".py",
   "mimetype": "text/x-python",
   "name": "python",
   "nbconvert_exporter": "python",
   "pygments_lexer": "ipython3",
   "version": "3.9.2"
  }
 },
 "nbformat": 4,
 "nbformat_minor": 5
}
