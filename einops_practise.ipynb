{
 "cells": [
  {
   "cell_type": "code",
   "execution_count": 1,
   "id": "impaired-viking",
   "metadata": {},
   "outputs": [],
   "source": [
    "import torch"
   ]
  },
  {
   "cell_type": "code",
   "execution_count": 2,
   "id": "tamil-passing",
   "metadata": {},
   "outputs": [],
   "source": [
    "from einops import rearrange, reduce, repeat"
   ]
  },
  {
   "cell_type": "code",
   "execution_count": 13,
   "id": "appointed-worker",
   "metadata": {},
   "outputs": [],
   "source": [
    "input_tensor = torch.randn(3,2,1)"
   ]
  },
  {
   "cell_type": "code",
   "execution_count": 14,
   "id": "optical-narrow",
   "metadata": {},
   "outputs": [
    {
     "data": {
      "text/plain": [
       "torch.Size([3, 2, 1])"
      ]
     },
     "execution_count": 14,
     "metadata": {},
     "output_type": "execute_result"
    }
   ],
   "source": [
    "input_tensor.shape"
   ]
  },
  {
   "cell_type": "code",
   "execution_count": 16,
   "id": "color-brooklyn",
   "metadata": {},
   "outputs": [
    {
     "data": {
      "text/plain": [
       "torch.Size([2, 1, 3])"
      ]
     },
     "execution_count": 16,
     "metadata": {},
     "output_type": "execute_result"
    }
   ],
   "source": [
    "# 按给出的模式重组张量\n",
    "output_tensor = rearrange(input_tensor, 't b c -> b c t')\n",
    "output_tensor.shape"
   ]
  },
  {
   "cell_type": "code",
   "execution_count": 33,
   "id": "supreme-albany",
   "metadata": {},
   "outputs": [],
   "source": [
    "input_tensor = torch.randn(5,4,8,2)"
   ]
  },
  {
   "cell_type": "code",
   "execution_count": 25,
   "id": "returning-script",
   "metadata": {},
   "outputs": [
    {
     "data": {
      "text/plain": [
       "torch.Size([5, 4, 1, 4])"
      ]
     },
     "execution_count": 25,
     "metadata": {},
     "output_type": "execute_result"
    }
   ],
   "source": [
    "# 结合重组（rearrange）和reduction操作\n",
    "output_tensor = reduce(input_tensor, 'b c (h h2) (w w2) -> b h w c', 'mean', h2=2, w2=2)\n",
    "output_tensor.shape"
   ]
  },
  {
   "cell_type": "code",
   "execution_count": 34,
   "id": "handled-decline",
   "metadata": {},
   "outputs": [
    {
     "data": {
      "text/plain": [
       "torch.Size([5, 8, 8])"
      ]
     },
     "execution_count": 34,
     "metadata": {},
     "output_type": "execute_result"
    }
   ],
   "source": [
    "# 结合重组（rearrange）和reduction操作\n",
    "input_tensor = torch.randn(5,4,8,2)\n",
    "output_tensor = rearrange(input_tensor, 'b c h w -> b h (w c)')\n",
    "output_tensor.shape"
   ]
  },
  {
   "cell_type": "code",
   "execution_count": 30,
   "id": "waiting-official",
   "metadata": {},
   "outputs": [
    {
     "data": {
      "text/plain": [
       "torch.Size([1, 2, 3])"
      ]
     },
     "execution_count": 30,
     "metadata": {},
     "output_type": "execute_result"
    }
   ],
   "source": [
    "# 沿着某一维复制\n",
    "input_tensor = torch.randn(1,2)\n",
    "output_tensor = repeat(input_tensor, 'h w -> h w c', c=3)\n",
    "output_tensor.shape"
   ]
  },
  {
   "cell_type": "markdown",
   "id": "dying-differential",
   "metadata": {},
   "source": [
    "### Vision Transformer 当中所用到的信息\n",
    "* 就是拆分成patch, 而不是你之前所认为的一行一行，现在是一个patch一个patch"
   ]
  },
  {
   "cell_type": "code",
   "execution_count": 35,
   "id": "quick-application",
   "metadata": {},
   "outputs": [
    {
     "data": {
      "text/plain": [
       "torch.Size([5, 49, 625])"
      ]
     },
     "execution_count": 35,
     "metadata": {},
     "output_type": "execute_result"
    }
   ],
   "source": [
    "# 沿着某一维复制\n",
    "input_tensor = torch.randn(5,25,35,35)  # batch_size, channels, height, width\n",
    "output_tensor = repeat(input_tensor, 'b c (h p1) (w p2) -> b (h w) (c p1 p2)', p1=5, p2=5)\n",
    "output_tensor.shape"
   ]
  },
  {
   "cell_type": "code",
   "execution_count": null,
   "id": "miniature-communist",
   "metadata": {},
   "outputs": [],
   "source": []
  }
 ],
 "metadata": {
  "kernelspec": {
   "display_name": "Python 3",
   "language": "python",
   "name": "python3"
  },
  "language_info": {
   "codemirror_mode": {
    "name": "ipython",
    "version": 3
   },
   "file_extension": ".py",
   "mimetype": "text/x-python",
   "name": "python",
   "nbconvert_exporter": "python",
   "pygments_lexer": "ipython3",
   "version": "3.9.2"
  }
 },
 "nbformat": 4,
 "nbformat_minor": 5
}
